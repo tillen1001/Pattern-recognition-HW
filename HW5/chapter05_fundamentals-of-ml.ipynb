{
 "cells": [
  {
   "cell_type": "markdown",
   "metadata": {
    "colab_type": "text"
   },
   "source": [
    "# Fundamentals of machine learning"
   ]
  },
  {
   "cell_type": "markdown",
   "metadata": {},
   "source": [
    "# PR_HW5"
   ]
  },
  {
   "cell_type": "markdown",
   "metadata": {
    "colab_type": "text"
   },
   "source": [
    "**Adding white-noise channels or all-zeros channels to MNIST**"
   ]
  },
  {
   "cell_type": "code",
   "execution_count": 1,
   "metadata": {
    "colab_type": "code"
   },
   "outputs": [
    {
     "name": "stdout",
     "output_type": "stream",
     "text": [
      "Downloading data from https://storage.googleapis.com/tensorflow/tf-keras-datasets/mnist.npz\n",
      "11490434/11490434 [==============================] - 1s 0us/step\n"
     ]
    }
   ],
   "source": [
    "from tensorflow.keras.datasets import mnist\n",
    "import numpy as np\n",
    "\n",
    "(train_images, train_labels), _ = mnist.load_data()\n",
    "train_images = train_images.reshape((60000, 28 * 28))\n",
    "train_images = train_images.astype(\"float32\") / 255\n",
    "\n",
    "train_images_with_noise_channels = np.concatenate(\n",
    "    [train_images, np.random.random((len(train_images), 784))], axis=1)\n",
    "\n",
    "train_images_with_zeros_channels = np.concatenate(\n",
    "    [train_images, np.zeros((len(train_images), 784))], axis=1)"
   ]
  },
  {
   "cell_type": "markdown",
   "metadata": {
    "colab_type": "text"
   },
   "source": [
    "**Training the same model on MNIST data with noise channels or all-zero channels**"
   ]
  },
  {
   "cell_type": "code",
   "execution_count": 2,
   "metadata": {
    "colab_type": "code"
   },
   "outputs": [
    {
     "name": "stdout",
     "output_type": "stream",
     "text": [
      "Epoch 1/10\n",
      "375/375 [==============================] - 9s 15ms/step - loss: 0.6367 - accuracy: 0.8113 - val_loss: 0.3211 - val_accuracy: 0.9082\n",
      "Epoch 2/10\n",
      "375/375 [==============================] - 6s 15ms/step - loss: 0.2547 - accuracy: 0.9218 - val_loss: 0.1751 - val_accuracy: 0.9482\n",
      "Epoch 3/10\n",
      "375/375 [==============================] - 5s 14ms/step - loss: 0.1642 - accuracy: 0.9480 - val_loss: 0.1517 - val_accuracy: 0.9552\n",
      "Epoch 4/10\n",
      "375/375 [==============================] - 5s 14ms/step - loss: 0.1176 - accuracy: 0.9633 - val_loss: 0.1331 - val_accuracy: 0.9608\n",
      "Epoch 5/10\n",
      "375/375 [==============================] - 5s 14ms/step - loss: 0.0876 - accuracy: 0.9713 - val_loss: 0.1492 - val_accuracy: 0.9567\n",
      "Epoch 6/10\n",
      "375/375 [==============================] - 5s 14ms/step - loss: 0.0624 - accuracy: 0.9798 - val_loss: 0.1233 - val_accuracy: 0.9654\n",
      "Epoch 7/10\n",
      "375/375 [==============================] - 5s 14ms/step - loss: 0.0473 - accuracy: 0.9848 - val_loss: 0.1389 - val_accuracy: 0.9632\n",
      "Epoch 8/10\n",
      "375/375 [==============================] - 5s 15ms/step - loss: 0.0366 - accuracy: 0.9885 - val_loss: 0.1165 - val_accuracy: 0.9707\n",
      "Epoch 9/10\n",
      "375/375 [==============================] - 5s 14ms/step - loss: 0.0268 - accuracy: 0.9913 - val_loss: 0.1628 - val_accuracy: 0.9628\n",
      "Epoch 10/10\n",
      "375/375 [==============================] - 5s 14ms/step - loss: 0.0201 - accuracy: 0.9937 - val_loss: 0.1361 - val_accuracy: 0.9683\n",
      "Epoch 1/10\n",
      "375/375 [==============================] - 6s 15ms/step - loss: 0.2887 - accuracy: 0.9163 - val_loss: 0.1578 - val_accuracy: 0.9535\n",
      "Epoch 2/10\n",
      "375/375 [==============================] - 5s 14ms/step - loss: 0.1187 - accuracy: 0.9647 - val_loss: 0.1044 - val_accuracy: 0.9699\n",
      "Epoch 3/10\n",
      "375/375 [==============================] - 5s 13ms/step - loss: 0.0775 - accuracy: 0.9771 - val_loss: 0.1072 - val_accuracy: 0.9695\n",
      "Epoch 4/10\n",
      "375/375 [==============================] - 5s 13ms/step - loss: 0.0558 - accuracy: 0.9837 - val_loss: 0.0800 - val_accuracy: 0.9765\n",
      "Epoch 5/10\n",
      "375/375 [==============================] - 5s 13ms/step - loss: 0.0420 - accuracy: 0.9876 - val_loss: 0.0819 - val_accuracy: 0.9772\n",
      "Epoch 6/10\n",
      "375/375 [==============================] - 5s 13ms/step - loss: 0.0325 - accuracy: 0.9903 - val_loss: 0.0755 - val_accuracy: 0.9787\n",
      "Epoch 7/10\n",
      "375/375 [==============================] - 5s 13ms/step - loss: 0.0247 - accuracy: 0.9926 - val_loss: 0.0863 - val_accuracy: 0.9761\n",
      "Epoch 8/10\n",
      "375/375 [==============================] - 5s 13ms/step - loss: 0.0185 - accuracy: 0.9948 - val_loss: 0.0803 - val_accuracy: 0.9786\n",
      "Epoch 9/10\n",
      "375/375 [==============================] - 6s 15ms/step - loss: 0.0140 - accuracy: 0.9964 - val_loss: 0.0866 - val_accuracy: 0.9789\n",
      "Epoch 10/10\n",
      "375/375 [==============================] - 6s 15ms/step - loss: 0.0106 - accuracy: 0.9969 - val_loss: 0.0909 - val_accuracy: 0.9787\n"
     ]
    }
   ],
   "source": [
    "from tensorflow import keras\n",
    "from tensorflow.keras import layers\n",
    "\n",
    "def get_model():\n",
    "    model = keras.Sequential([\n",
    "        layers.Dense(512, activation=\"relu\"),\n",
    "        layers.Dense(10, activation=\"softmax\")\n",
    "    ])\n",
    "    model.compile(optimizer=\"rmsprop\",\n",
    "                  loss=\"sparse_categorical_crossentropy\",\n",
    "                  metrics=[\"accuracy\"])\n",
    "    return model\n",
    "\n",
    "model = get_model()\n",
    "history_noise = model.fit(\n",
    "    train_images_with_noise_channels, train_labels,\n",
    "    epochs=10,\n",
    "    batch_size=128,\n",
    "    validation_split=0.2)\n",
    "\n",
    "model = get_model()\n",
    "history_zeros = model.fit(\n",
    "    train_images_with_zeros_channels, train_labels,\n",
    "    epochs=10,\n",
    "    batch_size=128,\n",
    "    validation_split=0.2)"
   ]
  },
  {
   "cell_type": "markdown",
   "metadata": {
    "colab_type": "text"
   },
   "source": [
    "**Plotting a validation accuracy comparison**"
   ]
  },
  {
   "cell_type": "code",
   "execution_count": 4,
   "metadata": {
    "colab_type": "code"
   },
   "outputs": [
    {
     "data": {
      "text/plain": [
       "<matplotlib.legend.Legend at 0x2ad70601288>"
      ]
     },
     "execution_count": 4,
     "metadata": {},
     "output_type": "execute_result"
    },
    {
     "data": {
      "image/png": "[encoded data removed]",
      "text/plain": [
       "<Figure size 640x480 with 1 Axes>"
      ]
     },
     "metadata": {},
     "output_type": "display_data"
    }
   ],
   "source": [
    "import matplotlib.pyplot as plt\n",
    "val_acc_noise = history_noise.history[\"val_accuracy\"]\n",
    "val_acc_zeros = history_zeros.history[\"val_accuracy\"]\n",
    "epochs = range(1, 11)\n",
    "plt.plot(epochs, val_acc_noise, \"b-\",\n",
    "         label=\"Validation accuracy with noise channels\")\n",
    "plt.plot(epochs, val_acc_zeros, \"b--\",\n",
    "         label=\"Validation accuracy with zeros channels\")\n",
    "plt.title(\"Effect of noise channels on validation accuracy\")\n",
    "plt.xlabel(\"Epochs\")\n",
    "plt.ylabel(\"Accuracy\")\n",
    "plt.legend()"
   ]
  },
  {
   "cell_type": "markdown",
   "metadata": {
    "colab_type": "text"
   },
   "source": [
    "### The nature of generalization in deep learning"
   ]
  },
  {
   "cell_type": "markdown",
   "metadata": {
    "colab_type": "text"
   },
   "source": [
    "**Fitting a MNIST model with randomly shuffled labels**"
   ]
  },
  {
   "cell_type": "code",
   "execution_count": 5,
   "metadata": {
    "colab_type": "code"
   },
   "outputs": [
    {
     "name": "stdout",
     "output_type": "stream",
     "text": [
      "Epoch 1/100\n",
      "375/375 [==============================] - 3s 8ms/step - loss: 2.3173 - accuracy: 0.1021 - val_loss: 2.3088 - val_accuracy: 0.1035\n",
      "Epoch 2/100\n",
      "375/375 [==============================] - 3s 8ms/step - loss: 2.3008 - accuracy: 0.1176 - val_loss: 2.3086 - val_accuracy: 0.1043\n",
      "Epoch 3/100\n",
      "375/375 [==============================] - 3s 8ms/step - loss: 2.2918 - accuracy: 0.1275 - val_loss: 2.3167 - val_accuracy: 0.1061\n",
      "Epoch 4/100\n",
      "375/375 [==============================] - 3s 8ms/step - loss: 2.2779 - accuracy: 0.1399 - val_loss: 2.3262 - val_accuracy: 0.1038\n",
      "Epoch 5/100\n",
      "375/375 [==============================] - 3s 8ms/step - loss: 2.2603 - accuracy: 0.1531 - val_loss: 2.3325 - val_accuracy: 0.1033\n",
      "Epoch 6/100\n",
      "375/375 [==============================] - 4s 10ms/step - loss: 2.2398 - accuracy: 0.1679 - val_loss: 2.3509 - val_accuracy: 0.1011\n",
      "Epoch 7/100\n",
      "375/375 [==============================] - 6s 17ms/step - loss: 2.2148 - accuracy: 0.1828 - val_loss: 2.3704 - val_accuracy: 0.1023\n",
      "Epoch 8/100\n",
      "375/375 [==============================] - 7s 17ms/step - loss: 2.1887 - accuracy: 0.1973 - val_loss: 2.3801 - val_accuracy: 0.0988\n",
      "Epoch 9/100\n",
      "375/375 [==============================] - 6s 16ms/step - loss: 2.1575 - accuracy: 0.2128 - val_loss: 2.4082 - val_accuracy: 0.1011\n",
      "Epoch 10/100\n",
      "375/375 [==============================] - 6s 16ms/step - loss: 2.1278 - accuracy: 0.2289 - val_loss: 2.4238 - val_accuracy: 0.0978\n",
      "Epoch 11/100\n",
      "375/375 [==============================] - 6s 16ms/step - loss: 2.0946 - accuracy: 0.2455 - val_loss: 2.4510 - val_accuracy: 0.1021\n",
      "Epoch 12/100\n",
      "375/375 [==============================] - 6s 15ms/step - loss: 2.0621 - accuracy: 0.2589 - val_loss: 2.4789 - val_accuracy: 0.1020\n",
      "Epoch 13/100\n",
      "375/375 [==============================] - 6s 17ms/step - loss: 2.0286 - accuracy: 0.2739 - val_loss: 2.4962 - val_accuracy: 0.0990\n",
      "Epoch 14/100\n",
      "375/375 [==============================] - 6s 16ms/step - loss: 1.9950 - accuracy: 0.2923 - val_loss: 2.5305 - val_accuracy: 0.0997\n",
      "Epoch 15/100\n",
      "375/375 [==============================] - 6s 16ms/step - loss: 1.9605 - accuracy: 0.3014 - val_loss: 2.5655 - val_accuracy: 0.0978\n",
      "Epoch 16/100\n",
      "375/375 [==============================] - 6s 17ms/step - loss: 1.9272 - accuracy: 0.3191 - val_loss: 2.5858 - val_accuracy: 0.0976\n",
      "Epoch 17/100\n",
      "375/375 [==============================] - 6s 17ms/step - loss: 1.8935 - accuracy: 0.3310 - val_loss: 2.6335 - val_accuracy: 0.0981\n",
      "Epoch 18/100\n",
      "375/375 [==============================] - 6s 17ms/step - loss: 1.8577 - accuracy: 0.3461 - val_loss: 2.6573 - val_accuracy: 0.1010\n",
      "Epoch 19/100\n",
      "375/375 [==============================] - 6s 16ms/step - loss: 1.8282 - accuracy: 0.3575 - val_loss: 2.6883 - val_accuracy: 0.1002\n",
      "Epoch 20/100\n",
      "375/375 [==============================] - 6s 16ms/step - loss: 1.7951 - accuracy: 0.3701 - val_loss: 2.7318 - val_accuracy: 0.1017\n",
      "Epoch 21/100\n",
      "375/375 [==============================] - 7s 19ms/step - loss: 1.7628 - accuracy: 0.3835 - val_loss: 2.7631 - val_accuracy: 0.0962\n",
      "Epoch 22/100\n",
      "375/375 [==============================] - 6s 17ms/step - loss: 1.7311 - accuracy: 0.3960 - val_loss: 2.8093 - val_accuracy: 0.0994\n",
      "Epoch 23/100\n",
      "375/375 [==============================] - 6s 16ms/step - loss: 1.7021 - accuracy: 0.4075 - val_loss: 2.8465 - val_accuracy: 0.0988\n",
      "Epoch 24/100\n",
      "375/375 [==============================] - 6s 16ms/step - loss: 1.6715 - accuracy: 0.4201 - val_loss: 2.8831 - val_accuracy: 0.0976\n",
      "Epoch 25/100\n",
      "375/375 [==============================] - 6s 15ms/step - loss: 1.6438 - accuracy: 0.4306 - val_loss: 2.9159 - val_accuracy: 0.1002\n",
      "Epoch 26/100\n",
      "375/375 [==============================] - 6s 16ms/step - loss: 1.6145 - accuracy: 0.4429 - val_loss: 2.9786 - val_accuracy: 0.0957\n",
      "Epoch 27/100\n",
      "375/375 [==============================] - 6s 16ms/step - loss: 1.5861 - accuracy: 0.4491 - val_loss: 3.0298 - val_accuracy: 0.0972\n",
      "Epoch 28/100\n",
      "375/375 [==============================] - 6s 16ms/step - loss: 1.5604 - accuracy: 0.4598 - val_loss: 3.0473 - val_accuracy: 0.1013\n",
      "Epoch 29/100\n",
      "375/375 [==============================] - 6s 16ms/step - loss: 1.5320 - accuracy: 0.4735 - val_loss: 3.1248 - val_accuracy: 0.0950\n",
      "Epoch 30/100\n",
      "375/375 [==============================] - 6s 15ms/step - loss: 1.5072 - accuracy: 0.4817 - val_loss: 3.1378 - val_accuracy: 0.0968\n",
      "Epoch 31/100\n",
      "375/375 [==============================] - 6s 16ms/step - loss: 1.4850 - accuracy: 0.4901 - val_loss: 3.1910 - val_accuracy: 0.0988\n",
      "Epoch 32/100\n",
      "375/375 [==============================] - 6s 16ms/step - loss: 1.4585 - accuracy: 0.5009 - val_loss: 3.2286 - val_accuracy: 0.0994\n",
      "Epoch 33/100\n",
      "375/375 [==============================] - 6s 16ms/step - loss: 1.4324 - accuracy: 0.5082 - val_loss: 3.3084 - val_accuracy: 0.0960\n",
      "Epoch 34/100\n",
      "375/375 [==============================] - 6s 17ms/step - loss: 1.4081 - accuracy: 0.5177 - val_loss: 3.3268 - val_accuracy: 0.0988\n",
      "Epoch 35/100\n",
      "375/375 [==============================] - 3s 9ms/step - loss: 1.3850 - accuracy: 0.5263 - val_loss: 3.4008 - val_accuracy: 0.0995\n",
      "Epoch 36/100\n",
      "375/375 [==============================] - 3s 7ms/step - loss: 1.3651 - accuracy: 0.5343 - val_loss: 3.4351 - val_accuracy: 0.0983\n",
      "Epoch 37/100\n",
      "375/375 [==============================] - 3s 7ms/step - loss: 1.3420 - accuracy: 0.5424 - val_loss: 3.4833 - val_accuracy: 0.0994\n",
      "Epoch 38/100\n",
      "375/375 [==============================] - 3s 7ms/step - loss: 1.3185 - accuracy: 0.5493 - val_loss: 3.5301 - val_accuracy: 0.0950\n",
      "Epoch 39/100\n",
      "375/375 [==============================] - 3s 7ms/step - loss: 1.2996 - accuracy: 0.5571 - val_loss: 3.5955 - val_accuracy: 0.0978\n",
      "Epoch 40/100\n",
      "375/375 [==============================] - 3s 7ms/step - loss: 1.2775 - accuracy: 0.5642 - val_loss: 3.6321 - val_accuracy: 0.0985\n",
      "Epoch 41/100\n",
      "375/375 [==============================] - 3s 7ms/step - loss: 1.2576 - accuracy: 0.5734 - val_loss: 3.6535 - val_accuracy: 0.0947\n",
      "Epoch 42/100\n",
      "375/375 [==============================] - 3s 7ms/step - loss: 1.2374 - accuracy: 0.5812 - val_loss: 3.7082 - val_accuracy: 0.0982\n",
      "Epoch 43/100\n",
      "375/375 [==============================] - 3s 7ms/step - loss: 1.2176 - accuracy: 0.5869 - val_loss: 3.7829 - val_accuracy: 0.1007\n",
      "Epoch 44/100\n",
      "375/375 [==============================] - 3s 7ms/step - loss: 1.1989 - accuracy: 0.5943 - val_loss: 3.8237 - val_accuracy: 0.0971\n",
      "Epoch 45/100\n",
      "375/375 [==============================] - 3s 7ms/step - loss: 1.1801 - accuracy: 0.6023 - val_loss: 3.8708 - val_accuracy: 0.0962\n",
      "Epoch 46/100\n",
      "375/375 [==============================] - 3s 7ms/step - loss: 1.1612 - accuracy: 0.6076 - val_loss: 3.9415 - val_accuracy: 0.0971\n",
      "Epoch 47/100\n",
      "375/375 [==============================] - 3s 7ms/step - loss: 1.1414 - accuracy: 0.6166 - val_loss: 3.9843 - val_accuracy: 0.0976\n",
      "Epoch 48/100\n",
      "375/375 [==============================] - 3s 7ms/step - loss: 1.1270 - accuracy: 0.6187 - val_loss: 4.0139 - val_accuracy: 0.0971\n",
      "Epoch 49/100\n",
      "375/375 [==============================] - 3s 7ms/step - loss: 1.1093 - accuracy: 0.6262 - val_loss: 4.1162 - val_accuracy: 0.0957\n",
      "Epoch 50/100\n",
      "375/375 [==============================] - 3s 8ms/step - loss: 1.0931 - accuracy: 0.6304 - val_loss: 4.1292 - val_accuracy: 0.0948\n",
      "Epoch 51/100\n",
      "375/375 [==============================] - 3s 8ms/step - loss: 1.0754 - accuracy: 0.6383 - val_loss: 4.2178 - val_accuracy: 0.0953\n",
      "Epoch 52/100\n",
      "375/375 [==============================] - 3s 8ms/step - loss: 1.0596 - accuracy: 0.6446 - val_loss: 4.2667 - val_accuracy: 0.0973\n",
      "Epoch 53/100\n",
      "375/375 [==============================] - 3s 7ms/step - loss: 1.0430 - accuracy: 0.6501 - val_loss: 4.3438 - val_accuracy: 0.0988\n",
      "Epoch 54/100\n",
      "375/375 [==============================] - 3s 7ms/step - loss: 1.0274 - accuracy: 0.6538 - val_loss: 4.3592 - val_accuracy: 0.0969\n",
      "Epoch 55/100\n",
      "375/375 [==============================] - 3s 7ms/step - loss: 1.0117 - accuracy: 0.6619 - val_loss: 4.4172 - val_accuracy: 0.0976\n",
      "Epoch 56/100\n",
      "375/375 [==============================] - 3s 7ms/step - loss: 0.9967 - accuracy: 0.6662 - val_loss: 4.5023 - val_accuracy: 0.0960\n",
      "Epoch 57/100\n",
      "375/375 [==============================] - 3s 7ms/step - loss: 0.9818 - accuracy: 0.6724 - val_loss: 4.5703 - val_accuracy: 0.0986\n"
     ]
    },
    {
     "name": "stdout",
     "output_type": "stream",
     "text": [
      "Epoch 58/100\n",
      "375/375 [==============================] - 3s 7ms/step - loss: 0.9662 - accuracy: 0.6780 - val_loss: 4.6057 - val_accuracy: 0.0973\n",
      "Epoch 59/100\n",
      "375/375 [==============================] - 3s 7ms/step - loss: 0.9516 - accuracy: 0.6825 - val_loss: 4.6648 - val_accuracy: 0.0937\n",
      "Epoch 60/100\n",
      "375/375 [==============================] - 3s 7ms/step - loss: 0.9396 - accuracy: 0.6868 - val_loss: 4.6745 - val_accuracy: 0.0957\n",
      "Epoch 61/100\n",
      "375/375 [==============================] - 3s 8ms/step - loss: 0.9250 - accuracy: 0.6913 - val_loss: 4.7986 - val_accuracy: 0.0978\n",
      "Epoch 62/100\n",
      "375/375 [==============================] - 3s 8ms/step - loss: 0.9107 - accuracy: 0.6981 - val_loss: 4.8255 - val_accuracy: 0.0975\n",
      "Epoch 63/100\n",
      "375/375 [==============================] - 3s 7ms/step - loss: 0.8955 - accuracy: 0.7006 - val_loss: 4.8953 - val_accuracy: 0.0942\n",
      "Epoch 64/100\n",
      "375/375 [==============================] - 3s 7ms/step - loss: 0.8807 - accuracy: 0.7081 - val_loss: 4.9374 - val_accuracy: 0.0978\n",
      "Epoch 65/100\n",
      "375/375 [==============================] - 3s 7ms/step - loss: 0.8713 - accuracy: 0.7103 - val_loss: 4.9932 - val_accuracy: 0.0947\n",
      "Epoch 66/100\n",
      "375/375 [==============================] - 3s 7ms/step - loss: 0.8572 - accuracy: 0.7156 - val_loss: 5.0782 - val_accuracy: 0.0963\n",
      "Epoch 67/100\n",
      "375/375 [==============================] - 3s 7ms/step - loss: 0.8450 - accuracy: 0.7193 - val_loss: 5.0973 - val_accuracy: 0.0976\n",
      "Epoch 68/100\n",
      "375/375 [==============================] - 3s 8ms/step - loss: 0.8340 - accuracy: 0.7229 - val_loss: 5.2056 - val_accuracy: 0.0945\n",
      "Epoch 69/100\n",
      "375/375 [==============================] - 3s 7ms/step - loss: 0.8213 - accuracy: 0.7277 - val_loss: 5.2498 - val_accuracy: 0.0971\n",
      "Epoch 70/100\n",
      "375/375 [==============================] - 3s 7ms/step - loss: 0.8089 - accuracy: 0.7301 - val_loss: 5.3247 - val_accuracy: 0.0974\n",
      "Epoch 71/100\n",
      "375/375 [==============================] - 3s 7ms/step - loss: 0.7975 - accuracy: 0.7358 - val_loss: 5.3689 - val_accuracy: 0.0971\n",
      "Epoch 72/100\n",
      "375/375 [==============================] - 3s 7ms/step - loss: 0.7852 - accuracy: 0.7394 - val_loss: 5.4323 - val_accuracy: 0.0987\n",
      "Epoch 73/100\n",
      "375/375 [==============================] - 3s 7ms/step - loss: 0.7751 - accuracy: 0.7423 - val_loss: 5.4738 - val_accuracy: 0.1004\n",
      "Epoch 74/100\n",
      "375/375 [==============================] - 3s 8ms/step - loss: 0.7632 - accuracy: 0.7478 - val_loss: 5.5778 - val_accuracy: 0.0960\n",
      "Epoch 75/100\n",
      "375/375 [==============================] - 3s 7ms/step - loss: 0.7521 - accuracy: 0.7528 - val_loss: 5.6057 - val_accuracy: 0.0997\n",
      "Epoch 76/100\n",
      "375/375 [==============================] - 3s 8ms/step - loss: 0.7415 - accuracy: 0.7551 - val_loss: 5.7093 - val_accuracy: 0.0981\n",
      "Epoch 77/100\n",
      "375/375 [==============================] - 3s 9ms/step - loss: 0.7323 - accuracy: 0.7583 - val_loss: 5.7381 - val_accuracy: 0.0983\n",
      "Epoch 78/100\n",
      "375/375 [==============================] - 3s 8ms/step - loss: 0.7186 - accuracy: 0.7637 - val_loss: 5.7986 - val_accuracy: 0.0975\n",
      "Epoch 79/100\n",
      "375/375 [==============================] - 3s 8ms/step - loss: 0.7107 - accuracy: 0.7679 - val_loss: 5.8941 - val_accuracy: 0.0991\n",
      "Epoch 80/100\n",
      "375/375 [==============================] - 3s 8ms/step - loss: 0.6992 - accuracy: 0.7706 - val_loss: 5.9455 - val_accuracy: 0.0977\n",
      "Epoch 81/100\n",
      "375/375 [==============================] - 3s 8ms/step - loss: 0.6916 - accuracy: 0.7723 - val_loss: 5.9715 - val_accuracy: 0.1009\n",
      "Epoch 82/100\n",
      "375/375 [==============================] - 3s 8ms/step - loss: 0.6779 - accuracy: 0.7784 - val_loss: 6.0437 - val_accuracy: 0.1003\n",
      "Epoch 83/100\n",
      "375/375 [==============================] - 3s 7ms/step - loss: 0.6721 - accuracy: 0.7778 - val_loss: 6.0969 - val_accuracy: 0.0972\n",
      "Epoch 84/100\n",
      "375/375 [==============================] - 3s 8ms/step - loss: 0.6627 - accuracy: 0.7824 - val_loss: 6.2242 - val_accuracy: 0.0988\n",
      "Epoch 85/100\n",
      "375/375 [==============================] - 3s 7ms/step - loss: 0.6531 - accuracy: 0.7853 - val_loss: 6.2403 - val_accuracy: 0.0995\n",
      "Epoch 86/100\n",
      "375/375 [==============================] - 3s 8ms/step - loss: 0.6417 - accuracy: 0.7911 - val_loss: 6.3259 - val_accuracy: 0.0990\n",
      "Epoch 87/100\n",
      "375/375 [==============================] - 3s 8ms/step - loss: 0.6332 - accuracy: 0.7927 - val_loss: 6.3797 - val_accuracy: 0.0973\n",
      "Epoch 88/100\n",
      "375/375 [==============================] - 3s 7ms/step - loss: 0.6253 - accuracy: 0.7971 - val_loss: 6.4448 - val_accuracy: 0.0997\n",
      "Epoch 89/100\n",
      "375/375 [==============================] - 3s 8ms/step - loss: 0.6176 - accuracy: 0.8004 - val_loss: 6.5298 - val_accuracy: 0.0994\n",
      "Epoch 90/100\n",
      "375/375 [==============================] - 3s 8ms/step - loss: 0.6091 - accuracy: 0.8018 - val_loss: 6.5788 - val_accuracy: 0.0981\n",
      "Epoch 91/100\n",
      "375/375 [==============================] - 3s 8ms/step - loss: 0.5981 - accuracy: 0.8043 - val_loss: 6.7094 - val_accuracy: 0.0967\n",
      "Epoch 92/100\n",
      "375/375 [==============================] - 3s 7ms/step - loss: 0.5923 - accuracy: 0.8071 - val_loss: 6.6900 - val_accuracy: 0.0992\n",
      "Epoch 93/100\n",
      "375/375 [==============================] - 3s 7ms/step - loss: 0.5826 - accuracy: 0.8107 - val_loss: 6.7903 - val_accuracy: 0.0958\n",
      "Epoch 94/100\n",
      "375/375 [==============================] - 3s 7ms/step - loss: 0.5767 - accuracy: 0.8124 - val_loss: 6.8119 - val_accuracy: 0.0988\n",
      "Epoch 95/100\n",
      "375/375 [==============================] - 3s 7ms/step - loss: 0.5668 - accuracy: 0.8166 - val_loss: 6.8633 - val_accuracy: 0.1000\n",
      "Epoch 96/100\n",
      "375/375 [==============================] - 3s 8ms/step - loss: 0.5590 - accuracy: 0.8168 - val_loss: 6.9849 - val_accuracy: 0.0972\n",
      "Epoch 97/100\n",
      "375/375 [==============================] - 3s 7ms/step - loss: 0.5525 - accuracy: 0.8213 - val_loss: 7.0424 - val_accuracy: 0.0980\n",
      "Epoch 98/100\n",
      "375/375 [==============================] - 3s 8ms/step - loss: 0.5442 - accuracy: 0.8255 - val_loss: 7.1668 - val_accuracy: 0.0991\n",
      "Epoch 99/100\n",
      "375/375 [==============================] - 3s 8ms/step - loss: 0.5362 - accuracy: 0.8264 - val_loss: 7.2318 - val_accuracy: 0.0984\n",
      "Epoch 100/100\n",
      "375/375 [==============================] - 3s 8ms/step - loss: 0.5293 - accuracy: 0.8299 - val_loss: 7.2551 - val_accuracy: 0.0989\n"
     ]
    },
    {
     "data": {
      "text/plain": [
       "<keras.callbacks.History at 0x2ad6414f908>"
      ]
     },
     "execution_count": 5,
     "metadata": {},
     "output_type": "execute_result"
    }
   ],
   "source": [
    "(train_images, train_labels), _ = mnist.load_data()\n",
    "train_images = train_images.reshape((60000, 28 * 28))\n",
    "train_images = train_images.astype(\"float32\") / 255\n",
    "\n",
    "random_train_labels = train_labels[:]\n",
    "np.random.shuffle(random_train_labels)\n",
    "\n",
    "model = keras.Sequential([\n",
    "    layers.Dense(512, activation=\"relu\"),\n",
    "    layers.Dense(10, activation=\"softmax\")\n",
    "])\n",
    "model.compile(optimizer=\"rmsprop\",\n",
    "              loss=\"sparse_categorical_crossentropy\",\n",
    "              metrics=[\"accuracy\"])\n",
    "model.fit(train_images, random_train_labels,\n",
    "          epochs=100,\n",
    "          batch_size=128,\n",
    "          validation_split=0.2)"
   ]
  },
  {
   "cell_type": "markdown",
   "metadata": {
    "colab_type": "text"
   },
   "source": [
    "#### The manifold hypothesis"
   ]
  },
  {
   "cell_type": "markdown",
   "metadata": {
    "colab_type": "text"
   },
   "source": [
    "#### Interpolation as a source of generalization"
   ]
  },
  {
   "cell_type": "markdown",
   "metadata": {
    "colab_type": "text"
   },
   "source": [
    "#### Why deep learning works"
   ]
  },
  {
   "cell_type": "markdown",
   "metadata": {
    "colab_type": "text"
   },
   "source": [
    "#### Training data is paramount"
   ]
  },
  {
   "cell_type": "markdown",
   "metadata": {
    "colab_type": "text"
   },
   "source": [
    "## Evaluating machine-learning models"
   ]
  },
  {
   "cell_type": "markdown",
   "metadata": {
    "colab_type": "text"
   },
   "source": [
    "### Training, validation, and test sets"
   ]
  },
  {
   "cell_type": "markdown",
   "metadata": {
    "colab_type": "text"
   },
   "source": [
    "#### Simple hold-out validation"
   ]
  },
  {
   "cell_type": "markdown",
   "metadata": {
    "colab_type": "text"
   },
   "source": [
    "#### K-fold validation"
   ]
  },
  {
   "cell_type": "markdown",
   "metadata": {
    "colab_type": "text"
   },
   "source": [
    "#### Iterated K-fold validation with shuffling"
   ]
  },
  {
   "cell_type": "markdown",
   "metadata": {
    "colab_type": "text"
   },
   "source": [
    "### Beating a common-sense baseline"
   ]
  },
  {
   "cell_type": "markdown",
   "metadata": {
    "colab_type": "text"
   },
   "source": [
    "### Things to keep in mind about model evaluation"
   ]
  },
  {
   "cell_type": "markdown",
   "metadata": {
    "colab_type": "text"
   },
   "source": [
    "## Improving model fit"
   ]
  },
  {
   "cell_type": "markdown",
   "metadata": {
    "colab_type": "text"
   },
   "source": [
    "### Tuning key gradient descent parameters"
   ]
  },
  {
   "cell_type": "markdown",
   "metadata": {
    "colab_type": "text"
   },
   "source": [
    "**Training a MNIST model with an incorrectly high learning rate**"
   ]
  },
  {
   "cell_type": "code",
   "execution_count": 6,
   "metadata": {
    "colab_type": "code"
   },
   "outputs": [
    {
     "name": "stdout",
     "output_type": "stream",
     "text": [
      "Epoch 1/10\n",
      "375/375 [==============================] - 11s 23ms/step - loss: 671.3722 - accuracy: 0.3457 - val_loss: 2.1724 - val_accuracy: 0.1819\n",
      "Epoch 2/10\n",
      "375/375 [==============================] - 7s 19ms/step - loss: 4.4990 - accuracy: 0.1931 - val_loss: 2.2622 - val_accuracy: 0.2211\n",
      "Epoch 3/10\n",
      "375/375 [==============================] - 7s 18ms/step - loss: 3.2021 - accuracy: 0.2067 - val_loss: 2.3406 - val_accuracy: 0.2338\n",
      "Epoch 4/10\n",
      "375/375 [==============================] - 3s 8ms/step - loss: 2.4590 - accuracy: 0.1894 - val_loss: 2.3556 - val_accuracy: 0.1691\n",
      "Epoch 5/10\n",
      "375/375 [==============================] - 3s 7ms/step - loss: 2.7244 - accuracy: 0.1722 - val_loss: 2.3116 - val_accuracy: 0.1637\n",
      "Epoch 6/10\n",
      "375/375 [==============================] - 3s 7ms/step - loss: 2.5266 - accuracy: 0.1875 - val_loss: 2.6419 - val_accuracy: 0.2253\n",
      "Epoch 7/10\n",
      "375/375 [==============================] - 3s 7ms/step - loss: 2.6807 - accuracy: 0.1875 - val_loss: 2.3722 - val_accuracy: 0.1542\n",
      "Epoch 8/10\n",
      "375/375 [==============================] - 3s 7ms/step - loss: 2.6332 - accuracy: 0.1916 - val_loss: 2.2900 - val_accuracy: 0.2128\n",
      "Epoch 9/10\n",
      "375/375 [==============================] - 3s 7ms/step - loss: 2.6708 - accuracy: 0.1848 - val_loss: 2.3596 - val_accuracy: 0.1794\n",
      "Epoch 10/10\n",
      "375/375 [==============================] - 3s 7ms/step - loss: 2.3697 - accuracy: 0.1719 - val_loss: 2.2473 - val_accuracy: 0.1712\n"
     ]
    },
    {
     "data": {
      "text/plain": [
       "<keras.callbacks.History at 0x2ad67d5c4c8>"
      ]
     },
     "execution_count": 6,
     "metadata": {},
     "output_type": "execute_result"
    }
   ],
   "source": [
    "(train_images, train_labels), _ = mnist.load_data()\n",
    "train_images = train_images.reshape((60000, 28 * 28))\n",
    "train_images = train_images.astype(\"float32\") / 255\n",
    "\n",
    "model = keras.Sequential([\n",
    "    layers.Dense(512, activation=\"relu\"),\n",
    "    layers.Dense(10, activation=\"softmax\")\n",
    "])\n",
    "model.compile(optimizer=keras.optimizers.RMSprop(1.),\n",
    "              loss=\"sparse_categorical_crossentropy\",\n",
    "              metrics=[\"accuracy\"])\n",
    "model.fit(train_images, train_labels,\n",
    "          epochs=10,\n",
    "          batch_size=128,\n",
    "          validation_split=0.2)"
   ]
  },
  {
   "cell_type": "markdown",
   "metadata": {
    "colab_type": "text"
   },
   "source": [
    "**The same model with a more appropriate learning rate**"
   ]
  },
  {
   "cell_type": "code",
   "execution_count": 7,
   "metadata": {
    "colab_type": "code"
   },
   "outputs": [
    {
     "name": "stdout",
     "output_type": "stream",
     "text": [
      "Epoch 1/10\n",
      "375/375 [==============================] - 4s 10ms/step - loss: 0.3805 - accuracy: 0.9122 - val_loss: 0.1748 - val_accuracy: 0.9543\n",
      "Epoch 2/10\n",
      "375/375 [==============================] - 3s 7ms/step - loss: 0.1426 - accuracy: 0.9634 - val_loss: 0.1313 - val_accuracy: 0.9696\n",
      "Epoch 3/10\n",
      "375/375 [==============================] - 3s 7ms/step - loss: 0.1113 - accuracy: 0.9731 - val_loss: 0.1748 - val_accuracy: 0.9636\n",
      "Epoch 4/10\n",
      "375/375 [==============================] - 3s 8ms/step - loss: 0.0961 - accuracy: 0.9787 - val_loss: 0.2331 - val_accuracy: 0.9592\n",
      "Epoch 5/10\n",
      "375/375 [==============================] - 3s 7ms/step - loss: 0.0916 - accuracy: 0.9816 - val_loss: 0.1860 - val_accuracy: 0.9736\n",
      "Epoch 6/10\n",
      "375/375 [==============================] - 3s 7ms/step - loss: 0.0790 - accuracy: 0.9843 - val_loss: 0.2588 - val_accuracy: 0.9685\n",
      "Epoch 7/10\n",
      "375/375 [==============================] - 3s 7ms/step - loss: 0.0735 - accuracy: 0.9859 - val_loss: 0.2282 - val_accuracy: 0.9743\n",
      "Epoch 8/10\n",
      "375/375 [==============================] - 3s 7ms/step - loss: 0.0673 - accuracy: 0.9883 - val_loss: 0.3016 - val_accuracy: 0.9679\n",
      "Epoch 9/10\n",
      "375/375 [==============================] - 3s 7ms/step - loss: 0.0583 - accuracy: 0.9888 - val_loss: 0.3200 - val_accuracy: 0.9718\n",
      "Epoch 10/10\n",
      "375/375 [==============================] - 3s 7ms/step - loss: 0.0630 - accuracy: 0.9898 - val_loss: 0.3709 - val_accuracy: 0.9693\n"
     ]
    },
    {
     "data": {
      "text/plain": [
       "<keras.callbacks.History at 0x2ad6840dcc8>"
      ]
     },
     "execution_count": 7,
     "metadata": {},
     "output_type": "execute_result"
    }
   ],
   "source": [
    "model = keras.Sequential([\n",
    "    layers.Dense(512, activation=\"relu\"),\n",
    "    layers.Dense(10, activation=\"softmax\")\n",
    "])\n",
    "model.compile(optimizer=keras.optimizers.RMSprop(1e-2),\n",
    "              loss=\"sparse_categorical_crossentropy\",\n",
    "              metrics=[\"accuracy\"])\n",
    "model.fit(train_images, train_labels,\n",
    "          epochs=10,\n",
    "          batch_size=128,\n",
    "          validation_split=0.2)"
   ]
  },
  {
   "cell_type": "markdown",
   "metadata": {
    "colab_type": "text"
   },
   "source": [
    "### Leveraging better architecture priors"
   ]
  },
  {
   "cell_type": "markdown",
   "metadata": {
    "colab_type": "text"
   },
   "source": [
    "### Increasing model capacity"
   ]
  },
  {
   "cell_type": "markdown",
   "metadata": {
    "colab_type": "text"
   },
   "source": [
    "**A simple logistic regression on MNIST**"
   ]
  },
  {
   "cell_type": "code",
   "execution_count": 8,
   "metadata": {
    "colab_type": "code"
   },
   "outputs": [
    {
     "name": "stdout",
     "output_type": "stream",
     "text": [
      "Epoch 1/20\n",
      "375/375 [==============================] - 1s 2ms/step - loss: 0.6793 - accuracy: 0.8294 - val_loss: 0.3572 - val_accuracy: 0.9036\n",
      "Epoch 2/20\n",
      "375/375 [==============================] - 1s 2ms/step - loss: 0.3514 - accuracy: 0.9043 - val_loss: 0.3058 - val_accuracy: 0.9154\n",
      "Epoch 3/20\n",
      "375/375 [==============================] - 1s 2ms/step - loss: 0.3158 - accuracy: 0.9123 - val_loss: 0.2884 - val_accuracy: 0.9204\n",
      "Epoch 4/20\n",
      "375/375 [==============================] - 1s 2ms/step - loss: 0.2999 - accuracy: 0.9164 - val_loss: 0.2798 - val_accuracy: 0.9231\n",
      "Epoch 5/20\n",
      "375/375 [==============================] - 1s 2ms/step - loss: 0.2899 - accuracy: 0.9190 - val_loss: 0.2759 - val_accuracy: 0.9229\n",
      "Epoch 6/20\n",
      "375/375 [==============================] - 1s 2ms/step - loss: 0.2835 - accuracy: 0.9200 - val_loss: 0.2711 - val_accuracy: 0.9248\n",
      "Epoch 7/20\n",
      "375/375 [==============================] - 1s 2ms/step - loss: 0.2782 - accuracy: 0.9219 - val_loss: 0.2713 - val_accuracy: 0.9241\n",
      "Epoch 8/20\n",
      "375/375 [==============================] - 1s 2ms/step - loss: 0.2744 - accuracy: 0.9227 - val_loss: 0.2667 - val_accuracy: 0.9273\n",
      "Epoch 9/20\n",
      "375/375 [==============================] - 1s 2ms/step - loss: 0.2712 - accuracy: 0.9245 - val_loss: 0.2654 - val_accuracy: 0.9278\n",
      "Epoch 10/20\n",
      "375/375 [==============================] - 1s 2ms/step - loss: 0.2689 - accuracy: 0.9255 - val_loss: 0.2643 - val_accuracy: 0.9282\n",
      "Epoch 11/20\n",
      "375/375 [==============================] - 1s 2ms/step - loss: 0.2668 - accuracy: 0.9257 - val_loss: 0.2642 - val_accuracy: 0.9299\n",
      "Epoch 12/20\n",
      "375/375 [==============================] - 1s 2ms/step - loss: 0.2651 - accuracy: 0.9268 - val_loss: 0.2640 - val_accuracy: 0.9283\n",
      "Epoch 13/20\n",
      "375/375 [==============================] - 1s 2ms/step - loss: 0.2632 - accuracy: 0.9269 - val_loss: 0.2609 - val_accuracy: 0.9309\n",
      "Epoch 14/20\n",
      "375/375 [==============================] - 1s 2ms/step - loss: 0.2617 - accuracy: 0.9276 - val_loss: 0.2631 - val_accuracy: 0.9284\n",
      "Epoch 15/20\n",
      "375/375 [==============================] - 1s 2ms/step - loss: 0.2604 - accuracy: 0.9285 - val_loss: 0.2634 - val_accuracy: 0.9298\n",
      "Epoch 16/20\n",
      "375/375 [==============================] - 1s 2ms/step - loss: 0.2592 - accuracy: 0.9291 - val_loss: 0.2621 - val_accuracy: 0.9299\n",
      "Epoch 17/20\n",
      "375/375 [==============================] - 1s 2ms/step - loss: 0.2583 - accuracy: 0.9294 - val_loss: 0.2607 - val_accuracy: 0.9303\n",
      "Epoch 18/20\n",
      "375/375 [==============================] - 1s 2ms/step - loss: 0.2574 - accuracy: 0.9293 - val_loss: 0.2604 - val_accuracy: 0.9294\n",
      "Epoch 19/20\n",
      "375/375 [==============================] - 1s 2ms/step - loss: 0.2563 - accuracy: 0.9303 - val_loss: 0.2594 - val_accuracy: 0.9307\n",
      "Epoch 20/20\n",
      "375/375 [==============================] - 1s 2ms/step - loss: 0.2555 - accuracy: 0.9299 - val_loss: 0.2622 - val_accuracy: 0.9298\n"
     ]
    }
   ],
   "source": [
    "model = keras.Sequential([layers.Dense(10, activation=\"softmax\")])\n",
    "model.compile(optimizer=\"rmsprop\",\n",
    "              loss=\"sparse_categorical_crossentropy\",\n",
    "              metrics=[\"accuracy\"])\n",
    "history_small_model = model.fit(\n",
    "    train_images, train_labels,\n",
    "    epochs=20,\n",
    "    batch_size=128,\n",
    "    validation_split=0.2)"
   ]
  },
  {
   "cell_type": "code",
   "execution_count": 9,
   "metadata": {
    "colab_type": "code"
   },
   "outputs": [
    {
     "data": {
      "text/plain": [
       "<matplotlib.legend.Legend at 0x2ad68313b08>"
      ]
     },
     "execution_count": 9,
     "metadata": {},
     "output_type": "execute_result"
    },
    {
     "data": {
      "image/png": "[encoded data removed]",
      "text/plain": [
       "<Figure size 640x480 with 1 Axes>"
      ]
     },
     "metadata": {},
     "output_type": "display_data"
    }
   ],
   "source": [
    "import matplotlib.pyplot as plt\n",
    "val_loss = history_small_model.history[\"val_loss\"]\n",
    "epochs = range(1, 21)\n",
    "plt.plot(epochs, val_loss, \"b--\",\n",
    "         label=\"Validation loss\")\n",
    "plt.title(\"Effect of insufficient model capacity on validation loss\")\n",
    "plt.xlabel(\"Epochs\")\n",
    "plt.ylabel(\"Loss\")\n",
    "plt.legend()"
   ]
  },
  {
   "cell_type": "code",
   "execution_count": 10,
   "metadata": {
    "colab_type": "code"
   },
   "outputs": [
    {
     "name": "stdout",
     "output_type": "stream",
     "text": [
      "Epoch 1/20\n",
      "375/375 [==============================] - 1s 3ms/step - loss: 0.3585 - accuracy: 0.8979 - val_loss: 0.2003 - val_accuracy: 0.9404\n",
      "Epoch 2/20\n",
      "375/375 [==============================] - 1s 3ms/step - loss: 0.1589 - accuracy: 0.9527 - val_loss: 0.1366 - val_accuracy: 0.9601\n",
      "Epoch 3/20\n",
      "375/375 [==============================] - 1s 3ms/step - loss: 0.1102 - accuracy: 0.9675 - val_loss: 0.1028 - val_accuracy: 0.9682\n",
      "Epoch 4/20\n",
      "375/375 [==============================] - 1s 3ms/step - loss: 0.0838 - accuracy: 0.9751 - val_loss: 0.1083 - val_accuracy: 0.9683\n",
      "Epoch 5/20\n",
      "375/375 [==============================] - 1s 3ms/step - loss: 0.0670 - accuracy: 0.9802 - val_loss: 0.0883 - val_accuracy: 0.9734\n",
      "Epoch 6/20\n",
      "375/375 [==============================] - 1s 3ms/step - loss: 0.0550 - accuracy: 0.9834 - val_loss: 0.1001 - val_accuracy: 0.9708\n",
      "Epoch 7/20\n",
      "375/375 [==============================] - 1s 3ms/step - loss: 0.0460 - accuracy: 0.9856 - val_loss: 0.0924 - val_accuracy: 0.9738\n",
      "Epoch 8/20\n",
      "375/375 [==============================] - 1s 3ms/step - loss: 0.0376 - accuracy: 0.9885 - val_loss: 0.0924 - val_accuracy: 0.9738\n",
      "Epoch 9/20\n",
      "375/375 [==============================] - 1s 3ms/step - loss: 0.0314 - accuracy: 0.9904 - val_loss: 0.0889 - val_accuracy: 0.9762\n",
      "Epoch 10/20\n",
      "375/375 [==============================] - 1s 3ms/step - loss: 0.0252 - accuracy: 0.9922 - val_loss: 0.1027 - val_accuracy: 0.9738\n",
      "Epoch 11/20\n",
      "375/375 [==============================] - 1s 3ms/step - loss: 0.0219 - accuracy: 0.9929 - val_loss: 0.1045 - val_accuracy: 0.9749\n",
      "Epoch 12/20\n",
      "375/375 [==============================] - 1s 2ms/step - loss: 0.0189 - accuracy: 0.9939 - val_loss: 0.0965 - val_accuracy: 0.9758\n",
      "Epoch 13/20\n",
      "375/375 [==============================] - 1s 3ms/step - loss: 0.0151 - accuracy: 0.9957 - val_loss: 0.1052 - val_accuracy: 0.9770\n",
      "Epoch 14/20\n",
      "375/375 [==============================] - 1s 3ms/step - loss: 0.0127 - accuracy: 0.9961 - val_loss: 0.1118 - val_accuracy: 0.9756\n",
      "Epoch 15/20\n",
      "375/375 [==============================] - 1s 3ms/step - loss: 0.0113 - accuracy: 0.9965 - val_loss: 0.1468 - val_accuracy: 0.9703\n",
      "Epoch 16/20\n",
      "375/375 [==============================] - 3s 7ms/step - loss: 0.0090 - accuracy: 0.9973 - val_loss: 0.1290 - val_accuracy: 0.9736\n",
      "Epoch 17/20\n",
      "375/375 [==============================] - 4s 10ms/step - loss: 0.0082 - accuracy: 0.9974 - val_loss: 0.1231 - val_accuracy: 0.9759\n",
      "Epoch 18/20\n",
      "375/375 [==============================] - 4s 10ms/step - loss: 0.0064 - accuracy: 0.9980 - val_loss: 0.1358 - val_accuracy: 0.9753\n",
      "Epoch 19/20\n",
      "375/375 [==============================] - 3s 8ms/step - loss: 0.0057 - accuracy: 0.9982 - val_loss: 0.1268 - val_accuracy: 0.9782\n",
      "Epoch 20/20\n",
      "375/375 [==============================] - 2s 6ms/step - loss: 0.0052 - accuracy: 0.9986 - val_loss: 0.1395 - val_accuracy: 0.9765\n"
     ]
    }
   ],
   "source": [
    "model = keras.Sequential([\n",
    "    layers.Dense(96, activation=\"relu\"),\n",
    "    layers.Dense(96, activation=\"relu\"),\n",
    "    layers.Dense(10, activation=\"softmax\"),\n",
    "])\n",
    "model.compile(optimizer=\"rmsprop\",\n",
    "              loss=\"sparse_categorical_crossentropy\",\n",
    "              metrics=[\"accuracy\"])\n",
    "history_large_model = model.fit(\n",
    "    train_images, train_labels,\n",
    "    epochs=20,\n",
    "    batch_size=128,\n",
    "    validation_split=0.2)"
   ]
  },
  {
   "cell_type": "markdown",
   "metadata": {
    "colab_type": "text"
   },
   "source": [
    "## Improving generalization"
   ]
  },
  {
   "cell_type": "markdown",
   "metadata": {
    "colab_type": "text"
   },
   "source": [
    "### Dataset curation"
   ]
  },
  {
   "cell_type": "markdown",
   "metadata": {
    "colab_type": "text"
   },
   "source": [
    "### Feature engineering"
   ]
  },
  {
   "cell_type": "markdown",
   "metadata": {
    "colab_type": "text"
   },
   "source": [
    "### Using early stopping"
   ]
  },
  {
   "cell_type": "markdown",
   "metadata": {
    "colab_type": "text"
   },
   "source": [
    "### Regularizing your model"
   ]
  },
  {
   "cell_type": "markdown",
   "metadata": {
    "colab_type": "text"
   },
   "source": [
    "#### Reducing the network's size"
   ]
  },
  {
   "cell_type": "markdown",
   "metadata": {
    "colab_type": "text"
   },
   "source": [
    "**Original model**"
   ]
  },
  {
   "cell_type": "code",
   "execution_count": 11,
   "metadata": {
    "colab_type": "code"
   },
   "outputs": [
    {
     "name": "stdout",
     "output_type": "stream",
     "text": [
      "Downloading data from https://storage.googleapis.com/tensorflow/tf-keras-datasets/imdb.npz\n",
      "17464789/17464789 [==============================] - 2s 0us/step\n",
      "Epoch 1/20\n",
      "30/30 [==============================] - 3s 57ms/step - loss: 0.5081 - accuracy: 0.7988 - val_loss: 0.3738 - val_accuracy: 0.8738\n",
      "Epoch 2/20\n",
      "30/30 [==============================] - 1s 28ms/step - loss: 0.2995 - accuracy: 0.9042 - val_loss: 0.3018 - val_accuracy: 0.8840\n",
      "Epoch 3/20\n",
      "30/30 [==============================] - 1s 23ms/step - loss: 0.2193 - accuracy: 0.9291 - val_loss: 0.3273 - val_accuracy: 0.8656\n",
      "Epoch 4/20\n",
      "30/30 [==============================] - 1s 23ms/step - loss: 0.1678 - accuracy: 0.9462 - val_loss: 0.2751 - val_accuracy: 0.8909\n",
      "Epoch 5/20\n",
      "30/30 [==============================] - 1s 23ms/step - loss: 0.1393 - accuracy: 0.9558 - val_loss: 0.2835 - val_accuracy: 0.8875\n",
      "Epoch 6/20\n",
      "30/30 [==============================] - 1s 24ms/step - loss: 0.1086 - accuracy: 0.9667 - val_loss: 0.2986 - val_accuracy: 0.8843\n",
      "Epoch 7/20\n",
      "30/30 [==============================] - 1s 22ms/step - loss: 0.0903 - accuracy: 0.9729 - val_loss: 0.3183 - val_accuracy: 0.8831\n",
      "Epoch 8/20\n",
      "30/30 [==============================] - 1s 22ms/step - loss: 0.0743 - accuracy: 0.9793 - val_loss: 0.3744 - val_accuracy: 0.8722\n",
      "Epoch 9/20\n",
      "30/30 [==============================] - 1s 21ms/step - loss: 0.0605 - accuracy: 0.9846 - val_loss: 0.3667 - val_accuracy: 0.8793\n",
      "Epoch 10/20\n",
      "30/30 [==============================] - 1s 20ms/step - loss: 0.0488 - accuracy: 0.9881 - val_loss: 0.4023 - val_accuracy: 0.8777\n",
      "Epoch 11/20\n",
      "30/30 [==============================] - 1s 22ms/step - loss: 0.0407 - accuracy: 0.9897 - val_loss: 0.4238 - val_accuracy: 0.8755\n",
      "Epoch 12/20\n",
      "30/30 [==============================] - 1s 21ms/step - loss: 0.0314 - accuracy: 0.9932 - val_loss: 0.4566 - val_accuracy: 0.8747\n",
      "Epoch 13/20\n",
      "30/30 [==============================] - 1s 21ms/step - loss: 0.0235 - accuracy: 0.9959 - val_loss: 0.5384 - val_accuracy: 0.8635\n",
      "Epoch 14/20\n",
      "30/30 [==============================] - 1s 21ms/step - loss: 0.0206 - accuracy: 0.9958 - val_loss: 0.5238 - val_accuracy: 0.8718\n",
      "Epoch 15/20\n",
      "30/30 [==============================] - 1s 21ms/step - loss: 0.0161 - accuracy: 0.9968 - val_loss: 0.5509 - val_accuracy: 0.8702\n",
      "Epoch 16/20\n",
      "30/30 [==============================] - 1s 21ms/step - loss: 0.0115 - accuracy: 0.9981 - val_loss: 0.5937 - val_accuracy: 0.8674\n",
      "Epoch 17/20\n",
      "30/30 [==============================] - 1s 22ms/step - loss: 0.0088 - accuracy: 0.9986 - val_loss: 0.6855 - val_accuracy: 0.8596\n",
      "Epoch 18/20\n",
      "30/30 [==============================] - 1s 20ms/step - loss: 0.0058 - accuracy: 0.9996 - val_loss: 0.6554 - val_accuracy: 0.8664\n",
      "Epoch 19/20\n",
      "30/30 [==============================] - 1s 21ms/step - loss: 0.0087 - accuracy: 0.9981 - val_loss: 0.6879 - val_accuracy: 0.8665\n",
      "Epoch 20/20\n",
      "30/30 [==============================] - 1s 20ms/step - loss: 0.0031 - accuracy: 0.9997 - val_loss: 0.7228 - val_accuracy: 0.8662\n"
     ]
    }
   ],
   "source": [
    "from tensorflow.keras.datasets import imdb\n",
    "(train_data, train_labels), _ = imdb.load_data(num_words=10000)\n",
    "\n",
    "def vectorize_sequences(sequences, dimension=10000):\n",
    "    results = np.zeros((len(sequences), dimension))\n",
    "    for i, sequence in enumerate(sequences):\n",
    "        results[i, sequence] = 1.\n",
    "    return results\n",
    "train_data = vectorize_sequences(train_data)\n",
    "\n",
    "model = keras.Sequential([\n",
    "    layers.Dense(16, activation=\"relu\"),\n",
    "    layers.Dense(16, activation=\"relu\"),\n",
    "    layers.Dense(1, activation=\"sigmoid\")\n",
    "])\n",
    "model.compile(optimizer=\"rmsprop\",\n",
    "              loss=\"binary_crossentropy\",\n",
    "              metrics=[\"accuracy\"])\n",
    "history_original = model.fit(train_data, train_labels,\n",
    "                             epochs=20, batch_size=512, validation_split=0.4)"
   ]
  },
  {
   "cell_type": "markdown",
   "metadata": {
    "colab_type": "text"
   },
   "source": [
    "**Version of the model with lower capacity**"
   ]
  },
  {
   "cell_type": "code",
   "execution_count": 12,
   "metadata": {
    "colab_type": "code"
   },
   "outputs": [
    {
     "name": "stdout",
     "output_type": "stream",
     "text": [
      "Epoch 1/20\n",
      "30/30 [==============================] - 5s 137ms/step - loss: 0.6470 - accuracy: 0.6209 - val_loss: 0.6113 - val_accuracy: 0.7639\n",
      "Epoch 2/20\n",
      "30/30 [==============================] - 1s 20ms/step - loss: 0.5764 - accuracy: 0.7480 - val_loss: 0.5647 - val_accuracy: 0.8025\n",
      "Epoch 3/20\n",
      "30/30 [==============================] - 1s 21ms/step - loss: 0.5295 - accuracy: 0.8061 - val_loss: 0.5358 - val_accuracy: 0.7485\n",
      "Epoch 4/20\n",
      "30/30 [==============================] - 1s 20ms/step - loss: 0.4925 - accuracy: 0.8415 - val_loss: 0.5056 - val_accuracy: 0.8231\n",
      "Epoch 5/20\n",
      "30/30 [==============================] - 1s 21ms/step - loss: 0.4625 - accuracy: 0.8702 - val_loss: 0.4900 - val_accuracy: 0.8229\n",
      "Epoch 6/20\n",
      "30/30 [==============================] - 1s 20ms/step - loss: 0.4372 - accuracy: 0.8907 - val_loss: 0.4713 - val_accuracy: 0.8576\n",
      "Epoch 7/20\n",
      "30/30 [==============================] - 1s 21ms/step - loss: 0.4143 - accuracy: 0.9110 - val_loss: 0.4620 - val_accuracy: 0.8569\n",
      "Epoch 8/20\n",
      "30/30 [==============================] - 1s 20ms/step - loss: 0.3939 - accuracy: 0.9216 - val_loss: 0.4549 - val_accuracy: 0.8618\n",
      "Epoch 9/20\n",
      "30/30 [==============================] - 1s 20ms/step - loss: 0.3752 - accuracy: 0.9323 - val_loss: 0.4447 - val_accuracy: 0.8743\n",
      "Epoch 10/20\n",
      "30/30 [==============================] - 1s 20ms/step - loss: 0.3583 - accuracy: 0.9435 - val_loss: 0.4548 - val_accuracy: 0.8565\n",
      "Epoch 11/20\n",
      "30/30 [==============================] - 1s 20ms/step - loss: 0.3427 - accuracy: 0.9519 - val_loss: 0.4401 - val_accuracy: 0.8734\n",
      "Epoch 12/20\n",
      "30/30 [==============================] - 1s 20ms/step - loss: 0.3284 - accuracy: 0.9596 - val_loss: 0.4440 - val_accuracy: 0.8695\n",
      "Epoch 13/20\n",
      "30/30 [==============================] - 1s 34ms/step - loss: 0.3148 - accuracy: 0.9658 - val_loss: 0.4505 - val_accuracy: 0.8667\n",
      "Epoch 14/20\n",
      "30/30 [==============================] - 1s 40ms/step - loss: 0.3028 - accuracy: 0.9705 - val_loss: 0.4533 - val_accuracy: 0.8677\n",
      "Epoch 15/20\n",
      "30/30 [==============================] - 1s 39ms/step - loss: 0.2911 - accuracy: 0.9757 - val_loss: 0.4436 - val_accuracy: 0.8741\n",
      "Epoch 16/20\n",
      "30/30 [==============================] - 1s 43ms/step - loss: 0.2806 - accuracy: 0.9785 - val_loss: 0.4692 - val_accuracy: 0.8627\n",
      "Epoch 17/20\n",
      "30/30 [==============================] - 1s 43ms/step - loss: 0.2705 - accuracy: 0.9817 - val_loss: 0.4796 - val_accuracy: 0.8632\n",
      "Epoch 18/20\n",
      "30/30 [==============================] - 1s 41ms/step - loss: 0.2613 - accuracy: 0.9835 - val_loss: 0.4791 - val_accuracy: 0.8656\n",
      "Epoch 19/20\n",
      "30/30 [==============================] - 1s 42ms/step - loss: 0.2525 - accuracy: 0.9853 - val_loss: 0.4729 - val_accuracy: 0.8704\n",
      "Epoch 20/20\n",
      "30/30 [==============================] - 1s 39ms/step - loss: 0.2441 - accuracy: 0.9869 - val_loss: 0.5236 - val_accuracy: 0.8566\n"
     ]
    }
   ],
   "source": [
    "model = keras.Sequential([\n",
    "    layers.Dense(4, activation=\"relu\"),\n",
    "    layers.Dense(4, activation=\"relu\"),\n",
    "    layers.Dense(1, activation=\"sigmoid\")\n",
    "])\n",
    "model.compile(optimizer=\"rmsprop\",\n",
    "              loss=\"binary_crossentropy\",\n",
    "              metrics=[\"accuracy\"])\n",
    "history_smaller_model = model.fit(\n",
    "    train_data, train_labels,\n",
    "    epochs=20, batch_size=512, validation_split=0.4)"
   ]
  },
  {
   "cell_type": "markdown",
   "metadata": {
    "colab_type": "text"
   },
   "source": [
    "**Version of the model with higher capacity**"
   ]
  },
  {
   "cell_type": "code",
   "execution_count": 13,
   "metadata": {
    "colab_type": "code"
   },
   "outputs": [
    {
     "name": "stdout",
     "output_type": "stream",
     "text": [
      "Epoch 1/20\n",
      "30/30 [==============================] - 13s 336ms/step - loss: 0.5530 - accuracy: 0.7575 - val_loss: 0.5895 - val_accuracy: 0.7150\n",
      "Epoch 2/20\n",
      "30/30 [==============================] - 6s 202ms/step - loss: 0.2532 - accuracy: 0.8987 - val_loss: 0.2669 - val_accuracy: 0.8942\n",
      "Epoch 3/20\n",
      "30/30 [==============================] - 6s 206ms/step - loss: 0.1719 - accuracy: 0.9344 - val_loss: 0.2718 - val_accuracy: 0.8914\n",
      "Epoch 4/20\n",
      "30/30 [==============================] - 6s 204ms/step - loss: 0.0900 - accuracy: 0.9722 - val_loss: 0.3535 - val_accuracy: 0.8882\n",
      "Epoch 5/20\n",
      "30/30 [==============================] - 6s 208ms/step - loss: 0.1112 - accuracy: 0.9745 - val_loss: 0.2938 - val_accuracy: 0.8852\n",
      "Epoch 6/20\n",
      "30/30 [==============================] - 6s 207ms/step - loss: 0.0087 - accuracy: 0.9994 - val_loss: 0.4634 - val_accuracy: 0.8877\n",
      "Epoch 7/20\n",
      "30/30 [==============================] - 6s 201ms/step - loss: 0.0011 - accuracy: 0.9999 - val_loss: 0.5829 - val_accuracy: 0.8874\n",
      "Epoch 8/20\n",
      "30/30 [==============================] - 6s 202ms/step - loss: 1.6453e-04 - accuracy: 1.0000 - val_loss: 0.7008 - val_accuracy: 0.8879\n",
      "Epoch 9/20\n",
      "30/30 [==============================] - 6s 204ms/step - loss: 2.4439e-05 - accuracy: 1.0000 - val_loss: 0.8206 - val_accuracy: 0.8865\n",
      "Epoch 10/20\n",
      "30/30 [==============================] - 6s 191ms/step - loss: 5.2399e-06 - accuracy: 1.0000 - val_loss: 0.9034 - val_accuracy: 0.8872\n",
      "Epoch 11/20\n",
      "30/30 [==============================] - 6s 204ms/step - loss: 0.4356 - accuracy: 0.9785 - val_loss: 0.9013 - val_accuracy: 0.8535\n",
      "Epoch 12/20\n",
      "30/30 [==============================] - 6s 205ms/step - loss: 6.5336e-04 - accuracy: 1.0000 - val_loss: 0.6524 - val_accuracy: 0.8851\n",
      "Epoch 13/20\n",
      "30/30 [==============================] - 5s 164ms/step - loss: 2.9883e-05 - accuracy: 1.0000 - val_loss: 0.6749 - val_accuracy: 0.8857\n",
      "Epoch 14/20\n",
      "30/30 [==============================] - 6s 213ms/step - loss: 1.2981e-05 - accuracy: 1.0000 - val_loss: 0.7049 - val_accuracy: 0.8860\n",
      "Epoch 15/20\n",
      "30/30 [==============================] - 6s 186ms/step - loss: 6.4972e-06 - accuracy: 1.0000 - val_loss: 0.7472 - val_accuracy: 0.8863\n",
      "Epoch 16/20\n",
      "30/30 [==============================] - 6s 212ms/step - loss: 2.9295e-06 - accuracy: 1.0000 - val_loss: 0.8075 - val_accuracy: 0.8867\n",
      "Epoch 17/20\n",
      "30/30 [==============================] - 6s 205ms/step - loss: 1.1373e-06 - accuracy: 1.0000 - val_loss: 0.8852 - val_accuracy: 0.8868\n",
      "Epoch 18/20\n",
      "30/30 [==============================] - 6s 200ms/step - loss: 4.1688e-07 - accuracy: 1.0000 - val_loss: 0.9731 - val_accuracy: 0.8870\n",
      "Epoch 19/20\n",
      "30/30 [==============================] - 6s 207ms/step - loss: 1.5709e-07 - accuracy: 1.0000 - val_loss: 1.0441 - val_accuracy: 0.8870\n",
      "Epoch 20/20\n",
      "30/30 [==============================] - 6s 202ms/step - loss: 6.9143e-08 - accuracy: 1.0000 - val_loss: 1.1035 - val_accuracy: 0.8868\n"
     ]
    }
   ],
   "source": [
    "model = keras.Sequential([\n",
    "    layers.Dense(512, activation=\"relu\"),\n",
    "    layers.Dense(512, activation=\"relu\"),\n",
    "    layers.Dense(1, activation=\"sigmoid\")\n",
    "])\n",
    "model.compile(optimizer=\"rmsprop\",\n",
    "              loss=\"binary_crossentropy\",\n",
    "              metrics=[\"accuracy\"])\n",
    "history_larger_model = model.fit(\n",
    "    train_data, train_labels,\n",
    "    epochs=20, batch_size=512, validation_split=0.4)"
   ]
  },
  {
   "cell_type": "markdown",
   "metadata": {
    "colab_type": "text"
   },
   "source": [
    "#### Adding weight regularization"
   ]
  },
  {
   "cell_type": "markdown",
   "metadata": {
    "colab_type": "text"
   },
   "source": [
    "**Adding L2 weight regularization to the model**"
   ]
  },
  {
   "cell_type": "code",
   "execution_count": 14,
   "metadata": {
    "colab_type": "code"
   },
   "outputs": [
    {
     "name": "stdout",
     "output_type": "stream",
     "text": [
      "Epoch 1/20\n",
      "30/30 [==============================] - 7s 133ms/step - loss: 0.5849 - accuracy: 0.7899 - val_loss: 0.4589 - val_accuracy: 0.8675\n",
      "Epoch 2/20\n",
      "30/30 [==============================] - 1s 43ms/step - loss: 0.3938 - accuracy: 0.8944 - val_loss: 0.3859 - val_accuracy: 0.8850\n",
      "Epoch 3/20\n",
      "30/30 [==============================] - 1s 40ms/step - loss: 0.3301 - accuracy: 0.9145 - val_loss: 0.3599 - val_accuracy: 0.8907\n",
      "Epoch 4/20\n",
      "30/30 [==============================] - 1s 40ms/step - loss: 0.2957 - accuracy: 0.9257 - val_loss: 0.3645 - val_accuracy: 0.8795\n",
      "Epoch 5/20\n",
      "30/30 [==============================] - 1s 43ms/step - loss: 0.2761 - accuracy: 0.9317 - val_loss: 0.3793 - val_accuracy: 0.8727\n",
      "Epoch 6/20\n",
      "30/30 [==============================] - 1s 39ms/step - loss: 0.2614 - accuracy: 0.9363 - val_loss: 0.3693 - val_accuracy: 0.8808\n",
      "Epoch 7/20\n",
      "30/30 [==============================] - 1s 40ms/step - loss: 0.2536 - accuracy: 0.9394 - val_loss: 0.3666 - val_accuracy: 0.8805\n",
      "Epoch 8/20\n",
      "30/30 [==============================] - 1s 39ms/step - loss: 0.2442 - accuracy: 0.9443 - val_loss: 0.3639 - val_accuracy: 0.8817\n",
      "Epoch 9/20\n",
      "30/30 [==============================] - 1s 37ms/step - loss: 0.2387 - accuracy: 0.9440 - val_loss: 0.3663 - val_accuracy: 0.8833\n",
      "Epoch 10/20\n",
      "30/30 [==============================] - 1s 42ms/step - loss: 0.2365 - accuracy: 0.9451 - val_loss: 0.3710 - val_accuracy: 0.8806\n",
      "Epoch 11/20\n",
      "30/30 [==============================] - 1s 46ms/step - loss: 0.2259 - accuracy: 0.9500 - val_loss: 0.3795 - val_accuracy: 0.8811\n",
      "Epoch 12/20\n",
      "30/30 [==============================] - 1s 44ms/step - loss: 0.2289 - accuracy: 0.9477 - val_loss: 0.3766 - val_accuracy: 0.8807\n",
      "Epoch 13/20\n",
      "30/30 [==============================] - 1s 45ms/step - loss: 0.2200 - accuracy: 0.9537 - val_loss: 0.3794 - val_accuracy: 0.8793\n",
      "Epoch 14/20\n",
      "30/30 [==============================] - 1s 40ms/step - loss: 0.2123 - accuracy: 0.9567 - val_loss: 0.4523 - val_accuracy: 0.8547\n",
      "Epoch 15/20\n",
      "30/30 [==============================] - 1s 40ms/step - loss: 0.2148 - accuracy: 0.9547 - val_loss: 0.3926 - val_accuracy: 0.8779\n",
      "Epoch 16/20\n",
      "30/30 [==============================] - 1s 40ms/step - loss: 0.2088 - accuracy: 0.9562 - val_loss: 0.3923 - val_accuracy: 0.8785\n",
      "Epoch 17/20\n",
      "30/30 [==============================] - 1s 38ms/step - loss: 0.2130 - accuracy: 0.9515 - val_loss: 0.3954 - val_accuracy: 0.8795\n",
      "Epoch 18/20\n",
      "30/30 [==============================] - 1s 44ms/step - loss: 0.2035 - accuracy: 0.9596 - val_loss: 0.4668 - val_accuracy: 0.8542\n",
      "Epoch 19/20\n",
      "30/30 [==============================] - 1s 38ms/step - loss: 0.2019 - accuracy: 0.9605 - val_loss: 0.4018 - val_accuracy: 0.8782\n",
      "Epoch 20/20\n",
      "30/30 [==============================] - 1s 35ms/step - loss: 0.2041 - accuracy: 0.9566 - val_loss: 0.4033 - val_accuracy: 0.8784\n"
     ]
    }
   ],
   "source": [
    "from tensorflow.keras import regularizers\n",
    "model = keras.Sequential([\n",
    "    layers.Dense(16,\n",
    "                 kernel_regularizer=regularizers.l2(0.002),\n",
    "                 activation=\"relu\"),\n",
    "    layers.Dense(16,\n",
    "                 kernel_regularizer=regularizers.l2(0.002),\n",
    "                 activation=\"relu\"),\n",
    "    layers.Dense(1, activation=\"sigmoid\")\n",
    "])\n",
    "model.compile(optimizer=\"rmsprop\",\n",
    "              loss=\"binary_crossentropy\",\n",
    "              metrics=[\"accuracy\"])\n",
    "history_l2_reg = model.fit(\n",
    "    train_data, train_labels,\n",
    "    epochs=20, batch_size=512, validation_split=0.4)"
   ]
  },
  {
   "cell_type": "markdown",
   "metadata": {
    "colab_type": "text"
   },
   "source": [
    "**Different weight regularizers available in Keras**"
   ]
  },
  {
   "cell_type": "code",
   "execution_count": 15,
   "metadata": {
    "colab_type": "code"
   },
   "outputs": [
    {
     "data": {
      "text/plain": [
       "<keras.regularizers.L1L2 at 0x2adbbf4b4c8>"
      ]
     },
     "execution_count": 15,
     "metadata": {},
     "output_type": "execute_result"
    }
   ],
   "source": [
    "from tensorflow.keras import regularizers\n",
    "regularizers.l1(0.001)\n",
    "regularizers.l1_l2(l1=0.001, l2=0.001)"
   ]
  },
  {
   "cell_type": "markdown",
   "metadata": {
    "colab_type": "text"
   },
   "source": [
    "#### Adding dropout"
   ]
  },
  {
   "cell_type": "markdown",
   "metadata": {
    "colab_type": "text"
   },
   "source": [
    "**Adding dropout to the IMDB model**"
   ]
  },
  {
   "cell_type": "code",
   "execution_count": 16,
   "metadata": {
    "colab_type": "code"
   },
   "outputs": [
    {
     "name": "stdout",
     "output_type": "stream",
     "text": [
      "Epoch 1/20\n",
      "30/30 [==============================] - 6s 96ms/step - loss: 0.6126 - accuracy: 0.6601 - val_loss: 0.4730 - val_accuracy: 0.8500\n",
      "Epoch 2/20\n",
      "30/30 [==============================] - 1s 42ms/step - loss: 0.4820 - accuracy: 0.7884 - val_loss: 0.3643 - val_accuracy: 0.8785\n",
      "Epoch 3/20\n",
      "30/30 [==============================] - 1s 39ms/step - loss: 0.4042 - accuracy: 0.8396 - val_loss: 0.3207 - val_accuracy: 0.8835\n",
      "Epoch 4/20\n",
      "30/30 [==============================] - 1s 39ms/step - loss: 0.3445 - accuracy: 0.8713 - val_loss: 0.2883 - val_accuracy: 0.8918\n",
      "Epoch 5/20\n",
      "30/30 [==============================] - 1s 38ms/step - loss: 0.2961 - accuracy: 0.8929 - val_loss: 0.2784 - val_accuracy: 0.8921\n",
      "Epoch 6/20\n",
      "30/30 [==============================] - 1s 39ms/step - loss: 0.2596 - accuracy: 0.9074 - val_loss: 0.2770 - val_accuracy: 0.8918\n",
      "Epoch 7/20\n",
      "30/30 [==============================] - 1s 40ms/step - loss: 0.2359 - accuracy: 0.9217 - val_loss: 0.2752 - val_accuracy: 0.8942\n",
      "Epoch 8/20\n",
      "30/30 [==============================] - 1s 43ms/step - loss: 0.2094 - accuracy: 0.9278 - val_loss: 0.2831 - val_accuracy: 0.8933\n",
      "Epoch 9/20\n",
      "30/30 [==============================] - 1s 40ms/step - loss: 0.1837 - accuracy: 0.9409 - val_loss: 0.3012 - val_accuracy: 0.8934\n",
      "Epoch 10/20\n",
      "30/30 [==============================] - 1s 37ms/step - loss: 0.1634 - accuracy: 0.9460 - val_loss: 0.3047 - val_accuracy: 0.8919\n",
      "Epoch 11/20\n",
      "30/30 [==============================] - 1s 36ms/step - loss: 0.1572 - accuracy: 0.9486 - val_loss: 0.3301 - val_accuracy: 0.8914\n",
      "Epoch 12/20\n",
      "30/30 [==============================] - 1s 42ms/step - loss: 0.1375 - accuracy: 0.9564 - val_loss: 0.3660 - val_accuracy: 0.8909\n",
      "Epoch 13/20\n",
      "30/30 [==============================] - 1s 43ms/step - loss: 0.1350 - accuracy: 0.9582 - val_loss: 0.3852 - val_accuracy: 0.8891\n",
      "Epoch 14/20\n",
      "30/30 [==============================] - 1s 39ms/step - loss: 0.1247 - accuracy: 0.9612 - val_loss: 0.3768 - val_accuracy: 0.8870\n",
      "Epoch 15/20\n",
      "30/30 [==============================] - 1s 39ms/step - loss: 0.1124 - accuracy: 0.9661 - val_loss: 0.4505 - val_accuracy: 0.8854\n",
      "Epoch 16/20\n",
      "30/30 [==============================] - 1s 41ms/step - loss: 0.1062 - accuracy: 0.9683 - val_loss: 0.4542 - val_accuracy: 0.8860\n",
      "Epoch 17/20\n",
      "30/30 [==============================] - 1s 38ms/step - loss: 0.1054 - accuracy: 0.9691 - val_loss: 0.4593 - val_accuracy: 0.8872\n",
      "Epoch 18/20\n",
      "30/30 [==============================] - 1s 31ms/step - loss: 0.0989 - accuracy: 0.9691 - val_loss: 0.5042 - val_accuracy: 0.8853\n",
      "Epoch 19/20\n",
      "30/30 [==============================] - 1s 37ms/step - loss: 0.0932 - accuracy: 0.9726 - val_loss: 0.5072 - val_accuracy: 0.8822\n",
      "Epoch 20/20\n",
      "30/30 [==============================] - 1s 38ms/step - loss: 0.0901 - accuracy: 0.9732 - val_loss: 0.5402 - val_accuracy: 0.8869\n"
     ]
    }
   ],
   "source": [
    "model = keras.Sequential([\n",
    "    layers.Dense(16, activation=\"relu\"),\n",
    "    layers.Dropout(0.5),\n",
    "    layers.Dense(16, activation=\"relu\"),\n",
    "    layers.Dropout(0.5),\n",
    "    layers.Dense(1, activation=\"sigmoid\")\n",
    "])\n",
    "model.compile(optimizer=\"rmsprop\",\n",
    "              loss=\"binary_crossentropy\",\n",
    "              metrics=[\"accuracy\"])\n",
    "history_dropout = model.fit(\n",
    "    train_data, train_labels,\n",
    "    epochs=20, batch_size=512, validation_split=0.4)"
   ]
  }
 ],
 "metadata": {
  "colab": {
   "collapsed_sections": [],
   "name": "chapter05_fundamentals-of-ml.i",
   "private_outputs": false,
   "provenance": [],
   "toc_visible": true
  },
  "kernelspec": {
   "display_name": "Python 3 (ipykernel)",
   "language": "python",
   "name": "python3"
  },
  "language_info": {
   "codemirror_mode": {
    "name": "ipython",
    "version": 3
   },
   "file_extension": ".py",
   "mimetype": "text/x-python",
   "name": "python",
   "nbconvert_exporter": "python",
   "pygments_lexer": "ipython3",
   "version": "3.7.15"
  }
 },
 "nbformat": 4,
 "nbformat_minor": 1
}
